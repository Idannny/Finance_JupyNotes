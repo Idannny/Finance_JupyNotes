{
 "cells": [
  {
   "cell_type": "markdown",
   "id": "5a3fc531",
   "metadata": {},
   "source": [
    "$C = S_0 N(d_1) - Ke^{-rt} N(d_2) $ \n",
    "\n",
    "Where: \n",
    "\n",
    "$(C)$ = Price of the call option  \n",
    "\n",
    "$(S_0)$ = Current stock price \n",
    "\n",
    "$(K)$ = Strike price (price you can buy the stock for)  \n",
    "\n",
    "$(r)$ = Risk-free interest rate \n",
    "\n",
    "$(t)$ = Time until the option expires \n",
    "\n",
    "$(N(d_1))$ and $(N(d_2))$ = Probability factors (how likely the stock will be above a certain price)"
   ]
  },
  {
   "cell_type": "markdown",
   "id": "5e909a0c",
   "metadata": {},
   "source": [
    " ### In Simple Terms - The Black-Scholes formula is like a magic calculator for figuring out how much an option should cost, taking into account current stock prices, how much time is left, and how uncertain things are. "
   ]
  },
  {
   "cell_type": "code",
   "execution_count": 10,
   "id": "ae4f1c68",
   "metadata": {},
   "outputs": [],
   "source": [
    "import numpy as np\n",
    "import yfinance as yf\n",
    "import pandas as pd\n",
    "from pandas_datareader import data as wb\n",
    "from scipy.stats import norm"
   ]
  },
  {
   "cell_type": "code",
   "execution_count": 2,
   "id": "d0170475",
   "metadata": {},
   "outputs": [],
   "source": [
    "def d1(S, K, r, stdev, T):\n",
    "    return(np.log(S/K) + (r+ stdev **2/2) * T)/ (stdev*np.sqrt(T))\n",
    "def d2(S, K, r, stdev, T):\n",
    "    return(np.log(S/K) + (r - stdev **2/2) * T)/ (stdev*np.sqrt(T))\n"
   ]
  },
  {
   "cell_type": "code",
   "execution_count": 5,
   "id": "0ba6fa8c",
   "metadata": {},
   "outputs": [
    {
     "data": {
      "text/plain": [
       "0.5"
      ]
     },
     "execution_count": 5,
     "metadata": {},
     "output_type": "execute_result"
    }
   ],
   "source": [
    "norm.cdf(0) #cumulative distribution Function (how data accumulates over time)"
   ]
  },
  {
   "cell_type": "code",
   "execution_count": 6,
   "id": "c082de8c",
   "metadata": {},
   "outputs": [
    {
     "data": {
      "text/plain": [
       "0.5987063256829237"
      ]
     },
     "execution_count": 6,
     "metadata": {},
     "output_type": "execute_result"
    }
   ],
   "source": [
    "norm.cdf(0.25)"
   ]
  },
  {
   "cell_type": "code",
   "execution_count": 7,
   "id": "ac0b2020",
   "metadata": {},
   "outputs": [
    {
     "data": {
      "text/plain": [
       "0.7733726476231317"
      ]
     },
     "execution_count": 7,
     "metadata": {},
     "output_type": "execute_result"
    }
   ],
   "source": [
    "norm.cdf(0.75)"
   ]
  },
  {
   "cell_type": "code",
   "execution_count": 8,
   "id": "72d13a9f",
   "metadata": {},
   "outputs": [
    {
     "data": {
      "text/plain": [
       "1.0"
      ]
     },
     "execution_count": 8,
     "metadata": {},
     "output_type": "execute_result"
    }
   ],
   "source": [
    "norm.cdf(9)"
   ]
  },
  {
   "cell_type": "code",
   "execution_count": 9,
   "id": "6b0f5223",
   "metadata": {},
   "outputs": [],
   "source": [
    "def BSM(S,K,r,stdev, T):\n",
    "    return (S * norm.cdf(d1(S,K,r,stdev,T)))- (K* np.exp(-r * T) * norm.cdf(d2(S,K,r,stdev,T)))"
   ]
  },
  {
   "cell_type": "code",
   "execution_count": 12,
   "id": "2a9943d3",
   "metadata": {},
   "outputs": [
    {
     "name": "stderr",
     "output_type": "stream",
     "text": [
      "[*********************100%%**********************]  1 of 1 completed\n"
     ]
    }
   ],
   "source": [
    "ticker = 'PG'\n",
    "data = pd.DataFrame()\n",
    "data[ticker] = yf.download(ticker, start='2007-01-01', end='2017-3-21')['Adj Close']"
   ]
  },
  {
   "cell_type": "code",
   "execution_count": 15,
   "id": "ba90008f",
   "metadata": {},
   "outputs": [
    {
     "data": {
      "text/plain": [
       "PG    74.47274\n",
       "Name: 2017-03-20 00:00:00, dtype: float64"
      ]
     },
     "execution_count": 15,
     "metadata": {},
     "output_type": "execute_result"
    }
   ],
   "source": [
    "S = data.iloc[-1]\n",
    "S"
   ]
  },
  {
   "cell_type": "code",
   "execution_count": 16,
   "id": "197c77dd",
   "metadata": {},
   "outputs": [],
   "source": [
    "log_returns = np.log(1 + data.pct_change())"
   ]
  },
  {
   "cell_type": "code",
   "execution_count": 18,
   "id": "97a522a3",
   "metadata": {},
   "outputs": [
    {
     "data": {
      "text/plain": [
       "PG    0.176585\n",
       "dtype: float64"
      ]
     },
     "execution_count": 18,
     "metadata": {},
     "output_type": "execute_result"
    }
   ],
   "source": [
    "stdev = log_returns.std() *250 **.5\n",
    "stdev"
   ]
  },
  {
   "cell_type": "code",
   "execution_count": 20,
   "id": "c25d766e",
   "metadata": {},
   "outputs": [],
   "source": [
    "r = 0.025  # risk free rate\n",
    "K = 110.0  # strike price\n",
    "T = 1      # year"
   ]
  },
  {
   "cell_type": "code",
   "execution_count": 21,
   "id": "6adbd975",
   "metadata": {},
   "outputs": [
    {
     "data": {
      "text/plain": [
       "PG   -1.978973\n",
       "dtype: float64"
      ]
     },
     "execution_count": 21,
     "metadata": {},
     "output_type": "execute_result"
    }
   ],
   "source": [
    "d1(S,K,r,stdev,T)"
   ]
  },
  {
   "cell_type": "code",
   "execution_count": null,
   "id": "4bfa4820",
   "metadata": {},
   "outputs": [],
   "source": []
  }
 ],
 "metadata": {
  "kernelspec": {
   "display_name": "Python 3 (ipykernel)",
   "language": "python",
   "name": "python3"
  },
  "language_info": {
   "codemirror_mode": {
    "name": "ipython",
    "version": 3
   },
   "file_extension": ".py",
   "mimetype": "text/x-python",
   "name": "python",
   "nbconvert_exporter": "python",
   "pygments_lexer": "ipython3",
   "version": "3.9.7"
  }
 },
 "nbformat": 4,
 "nbformat_minor": 5
}
