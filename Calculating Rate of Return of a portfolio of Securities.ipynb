{
 "cells": [
  {
   "cell_type": "code",
   "execution_count": 4,
   "id": "8c122418",
   "metadata": {},
   "outputs": [],
   "source": [
    "import numpy as np\n",
    "import pandas as pd\n",
    "from pandas_datareader import data as wb\n",
    "import matplotlib.pyplot as plt\n",
    "import yfinance as yf"
   ]
  },
  {
   "cell_type": "code",
   "execution_count": 15,
   "id": "e7333f70",
   "metadata": {},
   "outputs": [
    {
     "name": "stderr",
     "output_type": "stream",
     "text": [
      "[*********************100%%**********************]  1 of 1 completed\n",
      "[*********************100%%**********************]  1 of 1 completed\n",
      "[*********************100%%**********************]  1 of 1 completed\n",
      "[*********************100%%**********************]  1 of 1 completed\n"
     ]
    }
   ],
   "source": [
    "tickers = ['PG', 'MSFT' , 'F' , 'GE']\n",
    "mydata = pd.DataFrame()\n",
    "for t in tickers:\n",
    "    mydata[t] = yf.download(t, start ='1995-1-1', end = '2020-1-1')['Adj Close']"
   ]
  },
  {
   "cell_type": "code",
   "execution_count": 16,
   "id": "530c4a6e",
   "metadata": {},
   "outputs": [
    {
     "name": "stdout",
     "output_type": "stream",
     "text": [
      "<class 'pandas.core.frame.DataFrame'>\n",
      "DatetimeIndex: 6294 entries, 1995-01-03 to 2019-12-31\n",
      "Data columns (total 4 columns):\n",
      " #   Column  Non-Null Count  Dtype  \n",
      "---  ------  --------------  -----  \n",
      " 0   PG      6294 non-null   float64\n",
      " 1   MSFT    6294 non-null   float64\n",
      " 2   F       6294 non-null   float64\n",
      " 3   GE      6294 non-null   float64\n",
      "dtypes: float64(4)\n",
      "memory usage: 245.9 KB\n"
     ]
    }
   ],
   "source": [
    "mydata.info()"
   ]
  },
  {
   "cell_type": "code",
   "execution_count": 17,
   "id": "34ee6f8a",
   "metadata": {},
   "outputs": [
    {
     "data": {
      "text/html": [
       "<div>\n",
       "<style scoped>\n",
       "    .dataframe tbody tr th:only-of-type {\n",
       "        vertical-align: middle;\n",
       "    }\n",
       "\n",
       "    .dataframe tbody tr th {\n",
       "        vertical-align: top;\n",
       "    }\n",
       "\n",
       "    .dataframe thead th {\n",
       "        text-align: right;\n",
       "    }\n",
       "</style>\n",
       "<table border=\"1\" class=\"dataframe\">\n",
       "  <thead>\n",
       "    <tr style=\"text-align: right;\">\n",
       "      <th></th>\n",
       "      <th>PG</th>\n",
       "      <th>MSFT</th>\n",
       "      <th>F</th>\n",
       "      <th>GE</th>\n",
       "    </tr>\n",
       "    <tr>\n",
       "      <th>Date</th>\n",
       "      <th></th>\n",
       "      <th></th>\n",
       "      <th></th>\n",
       "      <th></th>\n",
       "    </tr>\n",
       "  </thead>\n",
       "  <tbody>\n",
       "    <tr>\n",
       "      <th>1995-01-03</th>\n",
       "      <td>7.529933</td>\n",
       "      <td>2.323633</td>\n",
       "      <td>3.674594</td>\n",
       "      <td>20.297829</td>\n",
       "    </tr>\n",
       "    <tr>\n",
       "      <th>1995-01-04</th>\n",
       "      <td>7.469573</td>\n",
       "      <td>2.340524</td>\n",
       "      <td>3.773461</td>\n",
       "      <td>20.297829</td>\n",
       "    </tr>\n",
       "    <tr>\n",
       "      <th>1995-01-05</th>\n",
       "      <td>7.363943</td>\n",
       "      <td>2.301916</td>\n",
       "      <td>3.740504</td>\n",
       "      <td>20.347580</td>\n",
       "    </tr>\n",
       "    <tr>\n",
       "      <th>1995-01-06</th>\n",
       "      <td>7.379034</td>\n",
       "      <td>2.340524</td>\n",
       "      <td>3.740504</td>\n",
       "      <td>20.248079</td>\n",
       "    </tr>\n",
       "    <tr>\n",
       "      <th>1995-01-09</th>\n",
       "      <td>7.348851</td>\n",
       "      <td>2.326046</td>\n",
       "      <td>3.806415</td>\n",
       "      <td>20.049086</td>\n",
       "    </tr>\n",
       "  </tbody>\n",
       "</table>\n",
       "</div>"
      ],
      "text/plain": [
       "                  PG      MSFT         F         GE\n",
       "Date                                               \n",
       "1995-01-03  7.529933  2.323633  3.674594  20.297829\n",
       "1995-01-04  7.469573  2.340524  3.773461  20.297829\n",
       "1995-01-05  7.363943  2.301916  3.740504  20.347580\n",
       "1995-01-06  7.379034  2.340524  3.740504  20.248079\n",
       "1995-01-09  7.348851  2.326046  3.806415  20.049086"
      ]
     },
     "execution_count": 17,
     "metadata": {},
     "output_type": "execute_result"
    }
   ],
   "source": [
    "mydata.head()\n"
   ]
  },
  {
   "cell_type": "code",
   "execution_count": 18,
   "id": "9b4269fb",
   "metadata": {},
   "outputs": [
    {
     "data": {
      "text/html": [
       "<div>\n",
       "<style scoped>\n",
       "    .dataframe tbody tr th:only-of-type {\n",
       "        vertical-align: middle;\n",
       "    }\n",
       "\n",
       "    .dataframe tbody tr th {\n",
       "        vertical-align: top;\n",
       "    }\n",
       "\n",
       "    .dataframe thead th {\n",
       "        text-align: right;\n",
       "    }\n",
       "</style>\n",
       "<table border=\"1\" class=\"dataframe\">\n",
       "  <thead>\n",
       "    <tr style=\"text-align: right;\">\n",
       "      <th></th>\n",
       "      <th>PG</th>\n",
       "      <th>MSFT</th>\n",
       "      <th>F</th>\n",
       "      <th>GE</th>\n",
       "    </tr>\n",
       "    <tr>\n",
       "      <th>Date</th>\n",
       "      <th></th>\n",
       "      <th></th>\n",
       "      <th></th>\n",
       "      <th></th>\n",
       "    </tr>\n",
       "  </thead>\n",
       "  <tbody>\n",
       "    <tr>\n",
       "      <th>2019-12-24</th>\n",
       "      <td>112.001183</td>\n",
       "      <td>151.104889</td>\n",
       "      <td>7.811657</td>\n",
       "      <td>54.815945</td>\n",
       "    </tr>\n",
       "    <tr>\n",
       "      <th>2019-12-26</th>\n",
       "      <td>112.001183</td>\n",
       "      <td>152.343414</td>\n",
       "      <td>7.795159</td>\n",
       "      <td>55.011890</td>\n",
       "    </tr>\n",
       "    <tr>\n",
       "      <th>2019-12-27</th>\n",
       "      <td>112.779320</td>\n",
       "      <td>152.621887</td>\n",
       "      <td>7.720920</td>\n",
       "      <td>54.766953</td>\n",
       "    </tr>\n",
       "    <tr>\n",
       "      <th>2019-12-30</th>\n",
       "      <td>111.330338</td>\n",
       "      <td>151.306458</td>\n",
       "      <td>7.630184</td>\n",
       "      <td>54.277084</td>\n",
       "    </tr>\n",
       "    <tr>\n",
       "      <th>2019-12-31</th>\n",
       "      <td>111.714951</td>\n",
       "      <td>151.412094</td>\n",
       "      <td>7.671427</td>\n",
       "      <td>54.668980</td>\n",
       "    </tr>\n",
       "  </tbody>\n",
       "</table>\n",
       "</div>"
      ],
      "text/plain": [
       "                    PG        MSFT         F         GE\n",
       "Date                                                   \n",
       "2019-12-24  112.001183  151.104889  7.811657  54.815945\n",
       "2019-12-26  112.001183  152.343414  7.795159  55.011890\n",
       "2019-12-27  112.779320  152.621887  7.720920  54.766953\n",
       "2019-12-30  111.330338  151.306458  7.630184  54.277084\n",
       "2019-12-31  111.714951  151.412094  7.671427  54.668980"
      ]
     },
     "execution_count": 18,
     "metadata": {},
     "output_type": "execute_result"
    }
   ],
   "source": [
    "mydata.tail()"
   ]
  },
  {
   "cell_type": "code",
   "execution_count": 19,
   "id": "e30cf08e",
   "metadata": {},
   "outputs": [],
   "source": [
    "#adjusted close data, now we can see the RR based on date and close data\n",
    "#NOW NORMALIZTION (multiply by 100 fopr visuals sake)"
   ]
  },
  {
   "cell_type": "code",
   "execution_count": 20,
   "id": "fdd99b37",
   "metadata": {},
   "outputs": [
    {
     "data": {
      "text/plain": [
       "PG       7.529933\n",
       "MSFT     2.323633\n",
       "F        3.674594\n",
       "GE      20.297829\n",
       "Name: 1995-01-03 00:00:00, dtype: float64"
      ]
     },
     "execution_count": 20,
     "metadata": {},
     "output_type": "execute_result"
    }
   ],
   "source": [
    "mydata.iloc[0]\n",
    "mydata.loc['1995-01-03']"
   ]
  },
  {
   "cell_type": "code",
   "execution_count": 21,
   "id": "acdfe50d",
   "metadata": {},
   "outputs": [
    {
     "data": {
      "image/png": "[encoded data removed]",
      "text/plain": [
       "<Figure size 1080x432 with 1 Axes>"
      ]
     },
     "metadata": {
      "needs_background": "light"
     },
     "output_type": "display_data"
    }
   ],
   "source": [
    "(mydata / mydata.iloc[0] * 100).plot(figsize = (15, 6));"
   ]
  },
  {
   "cell_type": "code",
   "execution_count": 23,
   "id": "4b364ade",
   "metadata": {},
   "outputs": [],
   "source": [
    "# we need to normalize because companies may begin at different start prices why we are at 100\n",
    "\n",
    "#you can see the 2008 crash\n"
   ]
  },
  {
   "cell_type": "markdown",
   "id": "a1af919d",
   "metadata": {},
   "source": [
    "## Calculating the return of a portfolio of securities\n"
   ]
  },
  {
   "cell_type": "code",
   "execution_count": 24,
   "id": "0b5b7f01",
   "metadata": {},
   "outputs": [
    {
     "data": {
      "text/html": [
       "<div>\n",
       "<style scoped>\n",
       "    .dataframe tbody tr th:only-of-type {\n",
       "        vertical-align: middle;\n",
       "    }\n",
       "\n",
       "    .dataframe tbody tr th {\n",
       "        vertical-align: top;\n",
       "    }\n",
       "\n",
       "    .dataframe thead th {\n",
       "        text-align: right;\n",
       "    }\n",
       "</style>\n",
       "<table border=\"1\" class=\"dataframe\">\n",
       "  <thead>\n",
       "    <tr style=\"text-align: right;\">\n",
       "      <th></th>\n",
       "      <th>PG</th>\n",
       "      <th>MSFT</th>\n",
       "      <th>F</th>\n",
       "      <th>GE</th>\n",
       "    </tr>\n",
       "    <tr>\n",
       "      <th>Date</th>\n",
       "      <th></th>\n",
       "      <th></th>\n",
       "      <th></th>\n",
       "      <th></th>\n",
       "    </tr>\n",
       "  </thead>\n",
       "  <tbody>\n",
       "    <tr>\n",
       "      <th>1995-01-03</th>\n",
       "      <td>NaN</td>\n",
       "      <td>NaN</td>\n",
       "      <td>NaN</td>\n",
       "      <td>NaN</td>\n",
       "    </tr>\n",
       "    <tr>\n",
       "      <th>1995-01-04</th>\n",
       "      <td>-0.008016</td>\n",
       "      <td>0.007269</td>\n",
       "      <td>0.026906</td>\n",
       "      <td>0.000000</td>\n",
       "    </tr>\n",
       "    <tr>\n",
       "      <th>1995-01-05</th>\n",
       "      <td>-0.014141</td>\n",
       "      <td>-0.016495</td>\n",
       "      <td>-0.008734</td>\n",
       "      <td>0.002451</td>\n",
       "    </tr>\n",
       "    <tr>\n",
       "      <th>1995-01-06</th>\n",
       "      <td>0.002049</td>\n",
       "      <td>0.016772</td>\n",
       "      <td>0.000000</td>\n",
       "      <td>-0.004890</td>\n",
       "    </tr>\n",
       "    <tr>\n",
       "      <th>1995-01-09</th>\n",
       "      <td>-0.004090</td>\n",
       "      <td>-0.006186</td>\n",
       "      <td>0.017621</td>\n",
       "      <td>-0.009828</td>\n",
       "    </tr>\n",
       "  </tbody>\n",
       "</table>\n",
       "</div>"
      ],
      "text/plain": [
       "                  PG      MSFT         F        GE\n",
       "Date                                              \n",
       "1995-01-03       NaN       NaN       NaN       NaN\n",
       "1995-01-04 -0.008016  0.007269  0.026906  0.000000\n",
       "1995-01-05 -0.014141 -0.016495 -0.008734  0.002451\n",
       "1995-01-06  0.002049  0.016772  0.000000 -0.004890\n",
       "1995-01-09 -0.004090 -0.006186  0.017621 -0.009828"
      ]
     },
     "execution_count": 24,
     "metadata": {},
     "output_type": "execute_result"
    }
   ],
   "source": [
    "returns = (mydata / mydata.shift(1))-1\n",
    "returns.head()"
   ]
  },
  {
   "cell_type": "code",
   "execution_count": 25,
   "id": "898eef72",
   "metadata": {},
   "outputs": [],
   "source": [
    "weights = np.array([0.25,0.25,0.25, 0.25]) #25% splits in a portfolio"
   ]
  },
  {
   "cell_type": "markdown",
   "id": "8a560d01",
   "metadata": {},
   "source": [
    "# np.dot - matrix and vector products"
   ]
  },
  {
   "cell_type": "code",
   "execution_count": 27,
   "id": "02503b62",
   "metadata": {},
   "outputs": [
    {
     "data": {
      "text/plain": [
       "array([        nan,  0.00653965, -0.00922986, ..., -0.00130018,\n",
       "       -0.01054086,  0.0041946 ])"
      ]
     },
     "execution_count": 27,
     "metadata": {},
     "output_type": "execute_result"
    }
   ],
   "source": [
    "np.dot(returns, weights)"
   ]
  },
  {
   "cell_type": "code",
   "execution_count": 29,
   "id": "af4aecf2",
   "metadata": {},
   "outputs": [
    {
     "name": "stdout",
     "output_type": "stream",
     "text": [
      "PG      0.131714\n",
      "MSFT    0.214099\n",
      "F       0.105705\n",
      "GE      0.084725\n",
      "dtype: float64\n"
     ]
    }
   ],
   "source": [
    "#250 trading days\n",
    "annual_returns = returns.mean() * 250\n",
    "print(annual_returns)"
   ]
  },
  {
   "cell_type": "code",
   "execution_count": 30,
   "id": "311f2b75",
   "metadata": {},
   "outputs": [
    {
     "data": {
      "text/plain": [
       "0.1340607428113928"
      ]
     },
     "execution_count": 30,
     "metadata": {},
     "output_type": "execute_result"
    }
   ],
   "source": [
    "np.dot(annual_returns, weights)"
   ]
  },
  {
   "cell_type": "code",
   "execution_count": 33,
   "id": "cbda00a3",
   "metadata": {},
   "outputs": [
    {
     "name": "stdout",
     "output_type": "stream",
     "text": [
      "13.406%\n"
     ]
    }
   ],
   "source": [
    "pfolio1 = str(round(np.dot(annual_returns, weights), 5) * 100) + '%'\n",
    "print(pfolio1)"
   ]
  },
  {
   "cell_type": "markdown",
   "id": "b7f262a9",
   "metadata": {},
   "source": [
    "\n",
    "# What if the weights of your pie were different?\n"
   ]
  },
  {
   "cell_type": "code",
   "execution_count": 36,
   "id": "a5320cd3",
   "metadata": {},
   "outputs": [],
   "source": [
    "weights_2 = np.array([0.4, 0.4 , 0.15 , 0.05])"
   ]
  },
  {
   "cell_type": "code",
   "execution_count": 38,
   "id": "c16c573e",
   "metadata": {},
   "outputs": [
    {
     "name": "stdout",
     "output_type": "stream",
     "text": [
      "15.842%\n"
     ]
    }
   ],
   "source": [
    "pfolio_2 = str(round(np.dot(annual_returns, weights_2), 5) * 100) + '%'\n",
    "print(pfolio_2)"
   ]
  },
  {
   "cell_type": "code",
   "execution_count": null,
   "id": "ca2bfa88",
   "metadata": {},
   "outputs": [],
   "source": []
  }
 ],
 "metadata": {
  "kernelspec": {
   "display_name": "Python 3 (ipykernel)",
   "language": "python",
   "name": "python3"
  },
  "language_info": {
   "codemirror_mode": {
    "name": "ipython",
    "version": 3
   },
   "file_extension": ".py",
   "mimetype": "text/x-python",
   "name": "python",
   "nbconvert_exporter": "python",
   "pygments_lexer": "ipython3",
   "version": "3.9.7"
  }
 },
 "nbformat": 4,
 "nbformat_minor": 5
}
