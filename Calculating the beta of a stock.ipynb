{
 "cells": [
  {
   "cell_type": "code",
   "execution_count": 10,
   "id": "f9f21998",
   "metadata": {},
   "outputs": [
    {
     "name": "stderr",
     "output_type": "stream",
     "text": [
      "[*********************100%%**********************]  1 of 1 completed\n",
      "[*********************100%%**********************]  1 of 1 completed\n"
     ]
    }
   ],
   "source": [
    "import numpy as np\n",
    "import pandas as pd\n",
    "from pandas_datareader import data as wb\n",
    "import matplotlib.pyplot as plt\n",
    "import yfinance as yf\n",
    "\n",
    "tickers = ['PG', '^GSPC']\n",
    "\n",
    "data = pd.DataFrame()\n",
    "\n",
    "for t in tickers:\n",
    "    data[t] = yf.download(t, start='2012-01-01', end='2016-12-31')['Adj Close']"
   ]
  },
  {
   "cell_type": "code",
   "execution_count": 11,
   "id": "592392b5",
   "metadata": {},
   "outputs": [],
   "source": [
    "sec_returns = np.log(data/data.shift(1))"
   ]
  },
  {
   "cell_type": "code",
   "execution_count": 12,
   "id": "5fef10c5",
   "metadata": {},
   "outputs": [
    {
     "data": {
      "text/html": [
       "<div>\n",
       "<style scoped>\n",
       "    .dataframe tbody tr th:only-of-type {\n",
       "        vertical-align: middle;\n",
       "    }\n",
       "\n",
       "    .dataframe tbody tr th {\n",
       "        vertical-align: top;\n",
       "    }\n",
       "\n",
       "    .dataframe thead th {\n",
       "        text-align: right;\n",
       "    }\n",
       "</style>\n",
       "<table border=\"1\" class=\"dataframe\">\n",
       "  <thead>\n",
       "    <tr style=\"text-align: right;\">\n",
       "      <th></th>\n",
       "      <th>PG</th>\n",
       "      <th>^GSPC</th>\n",
       "    </tr>\n",
       "  </thead>\n",
       "  <tbody>\n",
       "    <tr>\n",
       "      <th>PG</th>\n",
       "      <td>0.020409</td>\n",
       "      <td>0.010078</td>\n",
       "    </tr>\n",
       "    <tr>\n",
       "      <th>^GSPC</th>\n",
       "      <td>0.010078</td>\n",
       "      <td>0.016362</td>\n",
       "    </tr>\n",
       "  </tbody>\n",
       "</table>\n",
       "</div>"
      ],
      "text/plain": [
       "             PG     ^GSPC\n",
       "PG     0.020409  0.010078\n",
       "^GSPC  0.010078  0.016362"
      ]
     },
     "execution_count": 12,
     "metadata": {},
     "output_type": "execute_result"
    }
   ],
   "source": [
    "cov = sec_returns.cov()* 250\n",
    "cov"
   ]
  },
  {
   "cell_type": "code",
   "execution_count": 13,
   "id": "2d360a29",
   "metadata": {},
   "outputs": [
    {
     "data": {
      "text/plain": [
       "0.010078082868081789"
      ]
     },
     "execution_count": 13,
     "metadata": {},
     "output_type": "execute_result"
    }
   ],
   "source": [
    "cov_with_market=cov.iloc[0,1]\n",
    "cov_with_market"
   ]
  },
  {
   "cell_type": "code",
   "execution_count": 15,
   "id": "ddc741a9",
   "metadata": {},
   "outputs": [
    {
     "data": {
      "text/plain": [
       "0.016361631002308474"
      ]
     },
     "execution_count": 15,
     "metadata": {},
     "output_type": "execute_result"
    }
   ],
   "source": [
    "market_var = sec_returns['^GSPC'].var() * 250\n",
    "market_var"
   ]
  },
  {
   "cell_type": "markdown",
   "id": "95f12a84",
   "metadata": {},
   "source": [
    "Beta = covariance with market / Market variance 5 year gap"
   ]
  },
  {
   "cell_type": "code",
   "execution_count": 17,
   "id": "6a26f0ad",
   "metadata": {},
   "outputs": [
    {
     "data": {
      "text/plain": [
       "0.6159583275444768"
      ]
     },
     "execution_count": 17,
     "metadata": {},
     "output_type": "execute_result"
    }
   ],
   "source": [
    "PG_beta = cov_with_market/market_var\n",
    "PG_beta"
   ]
  },
  {
   "cell_type": "markdown",
   "id": "30e0b562",
   "metadata": {},
   "source": [
    "Defensive stock; beta=0 no relationship; beta<1 defensive; beta>1 more risky"
   ]
  },
  {
   "cell_type": "markdown",
   "id": "7d3f1f4a",
   "metadata": {},
   "source": [
    "...\n",
    "\n",
    "Calculate CAPM (Expected Return of Security)"
   ]
  },
  {
   "cell_type": "code",
   "execution_count": 19,
   "id": "e54f8914",
   "metadata": {},
   "outputs": [
    {
     "data": {
      "text/plain": [
       "0.05579791637722384"
      ]
     },
     "execution_count": 19,
     "metadata": {},
     "output_type": "execute_result"
    }
   ],
   "source": [
    "PG_er = .025 + PG_beta * 0.05\n",
    "PG_er"
   ]
  },
  {
   "cell_type": "markdown",
   "id": "9c31f026",
   "metadata": {},
   "source": [
    " Sharp Ratio; (Expected Rate of Return - Risk free Premium)/( Std Deviation of security's returns over the course of a year of trading)\n",
    "comparing stocks of a portfolio"
   ]
  },
  {
   "cell_type": "code",
   "execution_count": 23,
   "id": "17d5d6cd",
   "metadata": {},
   "outputs": [
    {
     "data": {
      "text/plain": [
       "0.21558098482793248"
      ]
     },
     "execution_count": 23,
     "metadata": {},
     "output_type": "execute_result"
    }
   ],
   "source": [
    "Sharpe = (PG_er - 0.025) / (sec_returns['PG'].std() * 250 ** 0.5)\n",
    "Sharpe"
   ]
  },
  {
   "cell_type": "code",
   "execution_count": null,
   "id": "5ecc6e16",
   "metadata": {},
   "outputs": [],
   "source": []
  }
 ],
 "metadata": {
  "kernelspec": {
   "display_name": "Python 3 (ipykernel)",
   "language": "python",
   "name": "python3"
  },
  "language_info": {
   "codemirror_mode": {
    "name": "ipython",
    "version": 3
   },
   "file_extension": ".py",
   "mimetype": "text/x-python",
   "name": "python",
   "nbconvert_exporter": "python",
   "pygments_lexer": "ipython3",
   "version": "3.9.7"
  }
 },
 "nbformat": 4,
 "nbformat_minor": 5
}
