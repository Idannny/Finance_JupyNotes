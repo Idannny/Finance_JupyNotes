{
 "cells": [
  {
   "cell_type": "markdown",
   "id": "6b38ebc2",
   "metadata": {},
   "source": [
    "$C = S_0 N(d_1) - Xe^{-rt} N(d_2) $ \n",
    "\n",
    "Where: \n",
    "\n",
    "$(C)$ = Price of the call option  \n",
    "\n",
    "$(S_0)$ = Current stock price \n",
    "\n",
    "$(X)$ = Strike price (price you can buy the stock for)  \n",
    "\n",
    "$(r)$ = Risk-free interest rate \n",
    "\n",
    "$(t)$ = Time until the option expires \n",
    "\n",
    "$(N(d_1))$ and $(N(d_2))$ = Probability factors (how likely the stock will be above a certain price)"
   ]
  },
  {
   "cell_type": "markdown",
   "id": "83d717fb",
   "metadata": {},
   "source": [
    " ### In Simple Terms - The Black-Scholes formula is like a magic calculator for figuring out how much an option should cost, taking into account current stock prices, how much time is left, and how uncertain things are. "
   ]
  },
  {
   "cell_type": "code",
   "execution_count": 1,
   "id": "0fcfa40e",
   "metadata": {},
   "outputs": [],
   "source": [
    "import numpy as np\n",
    "import pandas as pd\n",
    "from pandas_datareader import data as wb\n",
    "from scipy.stats import norm"
   ]
  },
  {
   "cell_type": "code",
   "execution_count": null,
   "id": "444a90ab",
   "metadata": {},
   "outputs": [],
   "source": [
    "def d1(S, K, r, stdev, T):\n",
    "    return(np.log(S/K) + (r+ stdev **2/2) * T)/ (stdev*np.sqrt(T))\n",
    "def d2(S, K, r, stdev, T):\n",
    "    return(np.log(S/K) + (r - stdev **2/2) * T)/ (stdev*np.sqrt(T))\n"
   ]
  },
  {
   "cell_type": "code",
   "execution_count": null,
   "id": "beb6b24e",
   "metadata": {},
   "outputs": [],
   "source": []
  }
 ],
 "metadata": {
  "kernelspec": {
   "display_name": "Python 3 (ipykernel)",
   "language": "python",
   "name": "python3"
  },
  "language_info": {
   "codemirror_mode": {
    "name": "ipython",
    "version": 3
   },
   "file_extension": ".py",
   "mimetype": "text/x-python",
   "name": "python",
   "nbconvert_exporter": "python",
   "pygments_lexer": "ipython3",
   "version": "3.9.7"
  }
 },
 "nbformat": 4,
 "nbformat_minor": 5
}
