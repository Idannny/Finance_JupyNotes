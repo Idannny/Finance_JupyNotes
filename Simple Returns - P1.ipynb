{
 "cells": [
  {
   "cell_type": "code",
   "execution_count": 4,
   "id": "459bb29a",
   "metadata": {},
   "outputs": [],
   "source": [
    "import numpy as np\n",
    "from pandas_datareader import data as wb\n",
    "import matplotlib.pyplot as plt"
   ]
  },
  {
   "cell_type": "code",
   "execution_count": 10,
   "id": "5c8c28bf",
   "metadata": {},
   "outputs": [
    {
     "name": "stdout",
     "output_type": "stream",
     "text": [
      "Note: you may need to restart the kernel to use updated packages.Collecting yfinance\n",
      "  Downloading yfinance-0.2.40-py2.py3-none-any.whl (73 kB)\n",
      "Collecting frozendict>=2.3.4\n",
      "  Downloading frozendict-2.4.4-cp39-cp39-win_amd64.whl (37 kB)\n",
      "Collecting peewee>=3.16.2\n",
      "  Downloading peewee-3.17.5.tar.gz (3.0 MB)\n",
      "  Installing build dependencies: started\n",
      "  Installing build dependencies: finished with status 'done'\n",
      "  Getting requirements to build wheel: started\n",
      "  Getting requirements to build wheel: finished with status 'done'\n",
      "    Preparing wheel metadata: started\n",
      "    Preparing wheel metadata: finished with status 'done'\n",
      "Requirement already satisfied: html5lib>=1.1 in c:\\users\\ivun\\anaconda3\\lib\\site-packages (from yfinance) (1.1)\n",
      "Requirement already satisfied: numpy>=1.16.5 in c:\\users\\ivun\\anaconda3\\lib\\site-packages (from yfinance) (1.20.3)\n",
      "Collecting platformdirs>=2.0.0\n",
      "  Downloading platformdirs-4.2.2-py3-none-any.whl (18 kB)\n",
      "Collecting requests>=2.31\n",
      "  Downloading requests-2.32.3-py3-none-any.whl (64 kB)\n",
      "Collecting multitasking>=0.0.7\n",
      "  Downloading multitasking-0.0.11-py3-none-any.whl (8.5 kB)\n",
      "Requirement already satisfied: pandas>=1.3.0 in c:\\users\\ivun\\anaconda3\\lib\\site-packages (from yfinance) (1.3.4)\n",
      "Collecting pytz>=2022.5\n",
      "  Downloading pytz-2024.1-py2.py3-none-any.whl (505 kB)\n",
      "Collecting beautifulsoup4>=4.11.1\n",
      "  Downloading beautifulsoup4-4.12.3-py3-none-any.whl (147 kB)\n",
      "Collecting lxml>=4.9.1\n",
      "  Downloading lxml-5.2.2-cp39-cp39-win_amd64.whl (3.8 MB)\n",
      "Requirement already satisfied: soupsieve>1.2 in c:\\users\\ivun\\anaconda3\\lib\\site-packages (from beautifulsoup4>=4.11.1->yfinance) (2.2.1)\n",
      "Requirement already satisfied: webencodings in c:\\users\\ivun\\anaconda3\\lib\\site-packages (from html5lib>=1.1->yfinance) (0.5.1)\n",
      "Requirement already satisfied: six>=1.9 in c:\\users\\ivun\\anaconda3\\lib\\site-packages (from html5lib>=1.1->yfinance) (1.16.0)\n",
      "Requirement already satisfied: python-dateutil>=2.7.3 in c:\\users\\ivun\\anaconda3\\lib\\site-packages (from pandas>=1.3.0->yfinance) (2.8.2)\n",
      "Requirement already satisfied: idna<4,>=2.5 in c:\\users\\ivun\\anaconda3\\lib\\site-packages (from requests>=2.31->yfinance) (3.2)\n",
      "Requirement already satisfied: urllib3<3,>=1.21.1 in c:\\users\\ivun\\anaconda3\\lib\\site-packages (from requests>=2.31->yfinance) (1.26.7)\n",
      "Requirement already satisfied: charset-normalizer<4,>=2 in c:\\users\\ivun\\anaconda3\\lib\\site-packages (from requests>=2.31->yfinance) (2.0.4)\n",
      "Requirement already satisfied: certifi>=2017.4.17 in c:\\users\\ivun\\anaconda3\\lib\\site-packages (from requests>=2.31->yfinance) (2021.10.8)\n",
      "Building wheels for collected packages: peewee\n",
      "  Building wheel for peewee (PEP 517): started\n",
      "  Building wheel for peewee (PEP 517): finished with status 'done'\n",
      "  Created wheel for peewee: filename=peewee-3.17.5-py3-none-any.whl size=138681 sha256=4f4b65a9ae7e3706d06ac157ac20deab13979f3394c8f71efe69654e821aced7\n",
      "  Stored in directory: c:\\users\\ivun\\appdata\\local\\pip\\cache\\wheels\\95\\bd\\4e\\15d1893c245357e4d2353e77456c0be9561d1942ed9fe664ca\n",
      "Successfully built peewee\n",
      "Installing collected packages: pytz, requests, platformdirs, peewee, multitasking, lxml, frozendict, beautifulsoup4, yfinance\n",
      "  Attempting uninstall: pytz\n",
      "    Found existing installation: pytz 2021.3\n",
      "    Uninstalling pytz-2021.3:\n",
      "      Successfully uninstalled pytz-2021.3\n",
      "  Attempting uninstall: requests\n",
      "    Found existing installation: requests 2.26.0\n",
      "    Uninstalling requests-2.26.0:\n",
      "      Successfully uninstalled requests-2.26.0\n",
      "\n",
      "  Attempting uninstall: lxml\n",
      "    Found existing installation: lxml 4.6.3\n",
      "    Uninstalling lxml-4.6.3:\n",
      "      Successfully uninstalled lxml-4.6.3\n",
      "  Attempting uninstall: beautifulsoup4\n",
      "    Found existing installation: beautifulsoup4 4.10.0\n",
      "    Uninstalling beautifulsoup4-4.10.0:\n",
      "      Successfully uninstalled beautifulsoup4-4.10.0\n",
      "Successfully installed beautifulsoup4-4.12.3 frozendict-2.4.4 lxml-5.2.2 multitasking-0.0.11 peewee-3.17.5 platformdirs-4.2.2 pytz-2024.1 requests-2.32.3 yfinance-0.2.40\n"
     ]
    },
    {
     "name": "stderr",
     "output_type": "stream",
     "text": [
      "ERROR: pip's dependency resolver does not currently take into account all the packages that are installed. This behaviour is the source of the following dependency conflicts.\n",
      "conda-repo-cli 1.0.4 requires pathlib, which is not installed.\n",
      "anaconda-project 0.10.1 requires ruamel-yaml, which is not installed.\n"
     ]
    }
   ],
   "source": [
    "pip install yfinance"
   ]
  },
  {
   "cell_type": "code",
   "execution_count": 16,
   "id": "dfaa816c",
   "metadata": {},
   "outputs": [
    {
     "name": "stderr",
     "output_type": "stream",
     "text": [
      "[*********************100%%**********************]  1 of 1 completed\n"
     ]
    }
   ],
   "source": [
    "import yfinance as yf\n",
    "\n",
    "PG = yf.download('PG', start='1995-01-01')"
   ]
  },
  {
   "cell_type": "code",
   "execution_count": 17,
   "id": "c203acf6",
   "metadata": {},
   "outputs": [
    {
     "data": {
      "text/html": [
       "<div>\n",
       "<style scoped>\n",
       "    .dataframe tbody tr th:only-of-type {\n",
       "        vertical-align: middle;\n",
       "    }\n",
       "\n",
       "    .dataframe tbody tr th {\n",
       "        vertical-align: top;\n",
       "    }\n",
       "\n",
       "    .dataframe thead th {\n",
       "        text-align: right;\n",
       "    }\n",
       "</style>\n",
       "<table border=\"1\" class=\"dataframe\">\n",
       "  <thead>\n",
       "    <tr style=\"text-align: right;\">\n",
       "      <th></th>\n",
       "      <th>Open</th>\n",
       "      <th>High</th>\n",
       "      <th>Low</th>\n",
       "      <th>Close</th>\n",
       "      <th>Adj Close</th>\n",
       "      <th>Volume</th>\n",
       "    </tr>\n",
       "    <tr>\n",
       "      <th>Date</th>\n",
       "      <th></th>\n",
       "      <th></th>\n",
       "      <th></th>\n",
       "      <th></th>\n",
       "      <th></th>\n",
       "      <th></th>\n",
       "    </tr>\n",
       "  </thead>\n",
       "  <tbody>\n",
       "    <tr>\n",
       "      <th>2005-08-10</th>\n",
       "      <td>14.80</td>\n",
       "      <td>15.54</td>\n",
       "      <td>14.60</td>\n",
       "      <td>15.270000</td>\n",
       "      <td>14.757251</td>\n",
       "      <td>4659200</td>\n",
       "    </tr>\n",
       "    <tr>\n",
       "      <th>2005-08-11</th>\n",
       "      <td>15.25</td>\n",
       "      <td>15.89</td>\n",
       "      <td>15.25</td>\n",
       "      <td>15.500000</td>\n",
       "      <td>14.979527</td>\n",
       "      <td>337800</td>\n",
       "    </tr>\n",
       "    <tr>\n",
       "      <th>2005-08-12</th>\n",
       "      <td>15.30</td>\n",
       "      <td>16.35</td>\n",
       "      <td>15.30</td>\n",
       "      <td>16.049999</td>\n",
       "      <td>15.511059</td>\n",
       "      <td>171300</td>\n",
       "    </tr>\n",
       "    <tr>\n",
       "      <th>2005-08-15</th>\n",
       "      <td>16.00</td>\n",
       "      <td>16.33</td>\n",
       "      <td>14.75</td>\n",
       "      <td>16.049999</td>\n",
       "      <td>15.511059</td>\n",
       "      <td>300100</td>\n",
       "    </tr>\n",
       "    <tr>\n",
       "      <th>2005-08-16</th>\n",
       "      <td>15.75</td>\n",
       "      <td>16.10</td>\n",
       "      <td>15.75</td>\n",
       "      <td>16.100000</td>\n",
       "      <td>15.559381</td>\n",
       "      <td>98600</td>\n",
       "    </tr>\n",
       "  </tbody>\n",
       "</table>\n",
       "</div>"
      ],
      "text/plain": [
       "             Open   High    Low      Close  Adj Close   Volume\n",
       "Date                                                          \n",
       "2005-08-10  14.80  15.54  14.60  15.270000  14.757251  4659200\n",
       "2005-08-11  15.25  15.89  15.25  15.500000  14.979527   337800\n",
       "2005-08-12  15.30  16.35  15.30  16.049999  15.511059   171300\n",
       "2005-08-15  16.00  16.33  14.75  16.049999  15.511059   300100\n",
       "2005-08-16  15.75  16.10  15.75  16.100000  15.559381    98600"
      ]
     },
     "execution_count": 17,
     "metadata": {},
     "output_type": "execute_result"
    }
   ],
   "source": [
    "PG.head()"
   ]
  },
  {
   "cell_type": "code",
   "execution_count": 18,
   "id": "1e8d3706",
   "metadata": {},
   "outputs": [
    {
     "data": {
      "text/html": [
       "<div>\n",
       "<style scoped>\n",
       "    .dataframe tbody tr th:only-of-type {\n",
       "        vertical-align: middle;\n",
       "    }\n",
       "\n",
       "    .dataframe tbody tr th {\n",
       "        vertical-align: top;\n",
       "    }\n",
       "\n",
       "    .dataframe thead th {\n",
       "        text-align: right;\n",
       "    }\n",
       "</style>\n",
       "<table border=\"1\" class=\"dataframe\">\n",
       "  <thead>\n",
       "    <tr style=\"text-align: right;\">\n",
       "      <th></th>\n",
       "      <th>Open</th>\n",
       "      <th>High</th>\n",
       "      <th>Low</th>\n",
       "      <th>Close</th>\n",
       "      <th>Adj Close</th>\n",
       "      <th>Volume</th>\n",
       "    </tr>\n",
       "    <tr>\n",
       "      <th>Date</th>\n",
       "      <th></th>\n",
       "      <th></th>\n",
       "      <th></th>\n",
       "      <th></th>\n",
       "      <th></th>\n",
       "      <th></th>\n",
       "    </tr>\n",
       "  </thead>\n",
       "  <tbody>\n",
       "    <tr>\n",
       "      <th>2024-06-27</th>\n",
       "      <td>269.649994</td>\n",
       "      <td>271.470001</td>\n",
       "      <td>268.040009</td>\n",
       "      <td>271.070007</td>\n",
       "      <td>271.070007</td>\n",
       "      <td>143300</td>\n",
       "    </tr>\n",
       "    <tr>\n",
       "      <th>2024-06-28</th>\n",
       "      <td>271.989990</td>\n",
       "      <td>274.440002</td>\n",
       "      <td>267.029999</td>\n",
       "      <td>269.779999</td>\n",
       "      <td>269.779999</td>\n",
       "      <td>313800</td>\n",
       "    </tr>\n",
       "    <tr>\n",
       "      <th>2024-07-01</th>\n",
       "      <td>272.799988</td>\n",
       "      <td>273.230011</td>\n",
       "      <td>267.859985</td>\n",
       "      <td>267.980011</td>\n",
       "      <td>267.980011</td>\n",
       "      <td>177700</td>\n",
       "    </tr>\n",
       "    <tr>\n",
       "      <th>2024-07-02</th>\n",
       "      <td>268.269989</td>\n",
       "      <td>271.070007</td>\n",
       "      <td>267.720001</td>\n",
       "      <td>270.750000</td>\n",
       "      <td>270.750000</td>\n",
       "      <td>125600</td>\n",
       "    </tr>\n",
       "    <tr>\n",
       "      <th>2024-07-03</th>\n",
       "      <td>271.269989</td>\n",
       "      <td>274.160004</td>\n",
       "      <td>269.600006</td>\n",
       "      <td>273.950012</td>\n",
       "      <td>273.950012</td>\n",
       "      <td>96300</td>\n",
       "    </tr>\n",
       "  </tbody>\n",
       "</table>\n",
       "</div>"
      ],
      "text/plain": [
       "                  Open        High         Low       Close   Adj Close  Volume\n",
       "Date                                                                          \n",
       "2024-06-27  269.649994  271.470001  268.040009  271.070007  271.070007  143300\n",
       "2024-06-28  271.989990  274.440002  267.029999  269.779999  269.779999  313800\n",
       "2024-07-01  272.799988  273.230011  267.859985  267.980011  267.980011  177700\n",
       "2024-07-02  268.269989  271.070007  267.720001  270.750000  270.750000  125600\n",
       "2024-07-03  271.269989  274.160004  269.600006  273.950012  273.950012   96300"
      ]
     },
     "execution_count": 18,
     "metadata": {},
     "output_type": "execute_result"
    }
   ],
   "source": [
    "PG.tail()"
   ]
  },
  {
   "cell_type": "code",
   "execution_count": 19,
   "id": "ead6138e",
   "metadata": {},
   "outputs": [
    {
     "name": "stdout",
     "output_type": "stream",
     "text": [
      "Date\n",
      "2005-08-10         NaN\n",
      "2005-08-11    0.015062\n",
      "2005-08-12    0.035484\n",
      "2005-08-15    0.000000\n",
      "2005-08-16    0.003115\n",
      "                ...   \n",
      "2024-06-27    0.008558\n",
      "2024-06-28   -0.004759\n",
      "2024-07-01   -0.006672\n",
      "2024-07-02    0.010337\n",
      "2024-07-03    0.011819\n",
      "Name: simple_return, Length: 4756, dtype: float64\n"
     ]
    }
   ],
   "source": [
    "PG['simple_return'] = (PG['Adj Close']/PG['Adj Close'].shift(1))-1\n",
    "#(TODAYS CLOSING PRICE/YESTERDAYS CLOSING PRICE) -1 is simple rate of return\n",
    "print(PG['simple_return'])"
   ]
  },
  {
   "cell_type": "code",
   "execution_count": 20,
   "id": "b8cdd8c9",
   "metadata": {},
   "outputs": [
    {
     "ename": "AttributeError",
     "evalue": "'AxesSubplot' object has no attribute 'show'",
     "output_type": "error",
     "traceback": [
      "\u001b[1;31m---------------------------------------------------------------------------\u001b[0m",
      "\u001b[1;31mAttributeError\u001b[0m                            Traceback (most recent call last)",
      "\u001b[1;32m~\\AppData\\Local\\Temp/ipykernel_15156/1802127277.py\u001b[0m in \u001b[0;36m<module>\u001b[1;34m\u001b[0m\n\u001b[1;32m----> 1\u001b[1;33m \u001b[0mPG\u001b[0m\u001b[1;33m[\u001b[0m\u001b[1;34m'simple_return'\u001b[0m\u001b[1;33m]\u001b[0m\u001b[1;33m.\u001b[0m\u001b[0mplot\u001b[0m\u001b[1;33m(\u001b[0m\u001b[0mfigsize\u001b[0m\u001b[1;33m=\u001b[0m\u001b[1;33m(\u001b[0m\u001b[1;36m8\u001b[0m\u001b[1;33m,\u001b[0m\u001b[1;36m5\u001b[0m\u001b[1;33m)\u001b[0m\u001b[1;33m)\u001b[0m\u001b[1;33m.\u001b[0m\u001b[0mshow\u001b[0m\u001b[1;33m(\u001b[0m\u001b[1;33m)\u001b[0m\u001b[1;33m\u001b[0m\u001b[1;33m\u001b[0m\u001b[0m\n\u001b[0m",
      "\u001b[1;31mAttributeError\u001b[0m: 'AxesSubplot' object has no attribute 'show'"
     ]
    },
    {
     "data": {
      "image/png": "[encoded data removed]",
      "text/plain": [
       "<Figure size 576x360 with 1 Axes>"
      ]
     },
     "metadata": {
      "needs_background": "light"
     },
     "output_type": "display_data"
    }
   ],
   "source": [
    "PG['simple_return'].plot(figsize=(8,5)).show()"
   ]
  },
  {
   "cell_type": "code",
   "execution_count": 21,
   "id": "0f77c616",
   "metadata": {},
   "outputs": [
    {
     "name": "stdout",
     "output_type": "stream",
     "text": [
      "0.000920564167291519\n"
     ]
    }
   ],
   "source": [
    "#Calculate Average rate of return\n",
    "avg_returns_d= PG['simple_return'].mean()\n",
    "print(avg_returns_d)"
   ]
  },
  {
   "cell_type": "code",
   "execution_count": 22,
   "id": "7d5913de",
   "metadata": {},
   "outputs": [
    {
     "name": "stdout",
     "output_type": "stream",
     "text": [
      "0.23014104182287975\n"
     ]
    }
   ],
   "source": [
    "# well we have 250 trading days usually\n",
    "avg_returns_a= PG['simple_return'].mean() * 250\n",
    "print(avg_returns_a)"
   ]
  },
  {
   "cell_type": "code",
   "execution_count": 23,
   "id": "23cd92c6",
   "metadata": {},
   "outputs": [
    {
     "name": "stdout",
     "output_type": "stream",
     "text": [
      "23.014000000000003 %\n"
     ]
    }
   ],
   "source": [
    "print(str(round(avg_returns_a,5) * 100) + ' %')"
   ]
  },
  {
   "cell_type": "code",
   "execution_count": 24,
   "id": "318cc481",
   "metadata": {},
   "outputs": [],
   "source": [
    "#from jan 3, 1995 to July 3 2024 P&G have a 12.794 % simple Rate of return, which is decent over "
   ]
  },
  {
   "cell_type": "code",
   "execution_count": null,
   "id": "2d8626df",
   "metadata": {},
   "outputs": [],
   "source": []
  }
 ],
 "metadata": {
  "kernelspec": {
   "display_name": "Python 3 (ipykernel)",
   "language": "python",
   "name": "python3"
  },
  "language_info": {
   "codemirror_mode": {
    "name": "ipython",
    "version": 3
   },
   "file_extension": ".py",
   "mimetype": "text/x-python",
   "name": "python",
   "nbconvert_exporter": "python",
   "pygments_lexer": "ipython3",
   "version": "3.9.7"
  }
 },
 "nbformat": 4,
 "nbformat_minor": 5
}
