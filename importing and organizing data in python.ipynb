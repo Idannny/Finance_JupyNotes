{
 "cells": [
  {
   "cell_type": "code",
   "execution_count": null,
   "id": "058db24a",
   "metadata": {},
   "outputs": [],
   "source": [
    "import numpy as np\n",
    "import pandas as pd"
   ]
  },
  {
   "cell_type": "code",
   "execution_count": null,
   "id": "5ba26701",
   "metadata": {},
   "outputs": [],
   "source": [
    "ser = pd.Series(np.random.random(5), name = \"Column 01\")"
   ]
  },
  {
   "cell_type": "code",
   "execution_count": null,
   "id": "26e531f5",
   "metadata": {},
   "outputs": [],
   "source": [
    "ser"
   ]
  },
  {
   "cell_type": "code",
   "execution_count": null,
   "id": "65600519",
   "metadata": {},
   "outputs": [],
   "source": [
    "ser[2]"
   ]
  },
  {
   "cell_type": "code",
   "execution_count": null,
   "id": "1deccc52",
   "metadata": {},
   "outputs": [],
   "source": [
    "from pandas_datareader "
   ]
  },
  {
   "cell_type": "code",
   "execution_count": null,
   "id": "f8f605b4",
   "metadata": {},
   "outputs": [],
   "source": [
    "import data as wb"
   ]
  },
  {
   "cell_type": "code",
   "execution_count": null,
   "id": "202bb752",
   "metadata": {},
   "outputs": [],
   "source": [
    "from pd import data as wb"
   ]
  },
  {
   "cell_type": "code",
   "execution_count": null,
   "id": "dda9a062",
   "metadata": {},
   "outputs": [],
   "source": [
    "pip install pandas_datareader"
   ]
  },
  {
   "cell_type": "code",
   "execution_count": null,
   "id": "e451f0e7",
   "metadata": {},
   "outputs": [],
   "source": [
    "import pandas_datareader"
   ]
  },
  {
   "cell_type": "code",
   "execution_count": null,
   "id": "678d3723",
   "metadata": {},
   "outputs": [],
   "source": [
    "pip install quandl\n"
   ]
  },
  {
   "cell_type": "code",
   "execution_count": null,
   "id": "c9a2b6be",
   "metadata": {},
   "outputs": [],
   "source": []
  }
 ],
 "metadata": {
  "kernelspec": {
   "display_name": "Python 3 (ipykernel)",
   "language": "python",
   "name": "python3"
  },
  "language_info": {
   "codemirror_mode": {
    "name": "ipython",
    "version": 3
   },
   "file_extension": ".py",
   "mimetype": "text/x-python",
   "name": "python",
   "nbconvert_exporter": "python",
   "pygments_lexer": "ipython3",
   "version": "3.9.7"
  }
 },
 "nbformat": 4,
 "nbformat_minor": 5
}
